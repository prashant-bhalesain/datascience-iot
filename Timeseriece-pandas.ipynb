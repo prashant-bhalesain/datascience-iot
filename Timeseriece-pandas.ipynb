{
 "cells": [
  {
   "cell_type": "markdown",
   "metadata": {},
   "source": [
    "In this series we'll be using the following packages:"
   ]
  },
  {
   "cell_type": "code",
   "execution_count": 2,
   "metadata": {
    "collapsed": true
   },
   "outputs": [],
   "source": [
    "%matplotlib inline\n",
    "import pandas as pd\n",
    "import numpy as np\n",
    "import matplotlib.pyplot as plt"
   ]
  },
  {
   "cell_type": "markdown",
   "metadata": {},
   "source": [
    "To convert a Series object of date-like objects we can use the to_datetime function."
   ]
  },
  {
   "cell_type": "code",
   "execution_count": 19,
   "metadata": {
    "collapsed": false
   },
   "outputs": [
    {
     "data": {
      "text/plain": [
       "0   1979-09-24\n",
       "1   2014-05-08\n",
       "dtype: datetime64[ns]"
      ]
     },
     "execution_count": 19,
     "metadata": {},
     "output_type": "execute_result"
    }
   ],
   "source": [
    "pd.to_datetime(pd.Series(['Sep 24, 1979', '2014-05-08']))"
   ]
  },
  {
   "cell_type": "markdown",
   "metadata": {},
   "source": [
    "In many cases the easiest way is more to associate objects with a time span."
   ]
  },
  {
   "cell_type": "code",
   "execution_count": 7,
   "metadata": {
    "collapsed": false
   },
   "outputs": [
    {
     "data": {
      "text/plain": [
       "<class 'pandas.tseries.period.PeriodIndex'>\n",
       "[2015-02, ..., 2015-06]\n",
       "Length: 3, Freq: M"
      ]
     },
     "execution_count": 7,
     "metadata": {},
     "output_type": "execute_result"
    }
   ],
   "source": [
    "periods = pd.PeriodIndex([pd.Period(\"2015-02\"), pd.Period(\"2015-04\"), pd.Period(\"2015-06\")])\n",
    "periods"
   ]
  },
  {
   "cell_type": "code",
   "execution_count": 8,
   "metadata": {
    "collapsed": false
   },
   "outputs": [
    {
     "data": {
      "text/plain": [
       "<matplotlib.axes._subplots.AxesSubplot at 0xb643c8ec>"
      ]
     },
     "execution_count": 8,
     "metadata": {},
     "output_type": "execute_result"
    },
    {
     "data": {
      "image/png": "[encoded data removed]",
      "text/plain": [
       "<matplotlib.figure.Figure at 0xaf22d6ac>"
      ]
     },
     "metadata": {},
     "output_type": "display_data"
    }
   ],
   "source": [
    "info = pd.Series([2.4,7.6,4.5],periods)\n",
    "info.plot()"
   ]
  },
  {
   "cell_type": "markdown",
   "metadata": {},
   "source": [
    "If we need timestamps on a regular frequency, we can use the pandas functions date_range. In this case the frequency of the data is one month (freq='M'). "
   ]
  },
  {
   "cell_type": "code",
   "execution_count": 14,
   "metadata": {
    "collapsed": false
   },
   "outputs": [
    {
     "data": {
      "text/plain": [
       "<class 'pandas.tseries.index.DatetimeIndex'>\n",
       "[2013-10-31, ..., 2014-12-31]\n",
       "Length: 15, Freq: M, Timezone: None"
      ]
     },
     "execution_count": 14,
     "metadata": {},
     "output_type": "execute_result"
    }
   ],
   "source": [
    "Months = pd.date_range(\"2013-10\", \"2015-01\", freq = \"M\")\n",
    "Months"
   ]
  },
  {
   "cell_type": "markdown",
   "metadata": {},
   "source": [
    "We can use it with a table of prices"
   ]
  },
  {
   "cell_type": "code",
   "execution_count": 15,
   "metadata": {
    "collapsed": false
   },
   "outputs": [
    {
     "data": {
      "text/plain": [
       "<matplotlib.axes._subplots.AxesSubplot at 0xaf0d876c>"
      ]
     },
     "execution_count": 15,
     "metadata": {},
     "output_type": "execute_result"
    },
    {
     "data": {
      "image/png": "[encoded data removed]",
      "text/plain": [
       "<matplotlib.figure.Figure at 0xb0e1b1ac>"
      ]
     },
     "metadata": {},
     "output_type": "display_data"
    }
   ],
   "source": [
    "Prices = np.array([23.4,23.1, 23.2, 23.4,23.1,23.8,24,23.9,23.7,24.2,24.5,24.9,25,24.9,25.1])\n",
    "info = pd.Series(Prices, index=Months)\n",
    "info.plot()"
   ]
  },
  {
   "cell_type": "markdown",
   "metadata": {},
   "source": [
    "We can select a time span between march and september"
   ]
  },
  {
   "cell_type": "code",
   "execution_count": 16,
   "metadata": {
    "collapsed": false
   },
   "outputs": [
    {
     "data": {
      "text/plain": [
       "<matplotlib.axes._subplots.AxesSubplot at 0xaf000f0c>"
      ]
     },
     "execution_count": 16,
     "metadata": {},
     "output_type": "execute_result"
    },
    {
     "data": {
      "image/png": "[encoded data removed]",
      "text/plain": [
       "<matplotlib.figure.Figure at 0xaefb85ec>"
      ]
     },
     "metadata": {},
     "output_type": "display_data"
    }
   ],
   "source": [
    "info[\"2014-03\":\"2014-09\"].plot()"
   ]
  },
  {
   "cell_type": "markdown",
   "metadata": {},
   "source": [
    "We can access a specific value"
   ]
  },
  {
   "cell_type": "code",
   "execution_count": 17,
   "metadata": {
    "collapsed": false
   },
   "outputs": [
    {
     "data": {
      "text/plain": [
       "2013-10-31    23.4\n",
       "2013-11-30    23.1\n",
       "2013-12-31    23.2\n",
       "Freq: M, dtype: float64"
      ]
     },
     "execution_count": 17,
     "metadata": {},
     "output_type": "execute_result"
    }
   ],
   "source": [
    "info[\"2013\"]"
   ]
  },
  {
   "cell_type": "code",
   "execution_count": 13,
   "metadata": {
    "collapsed": false
   },
   "outputs": [
    {
     "data": {
      "text/plain": [
       "2014-06-30    23.8\n",
       "Freq: M, dtype: float64"
      ]
     },
     "execution_count": 13,
     "metadata": {},
     "output_type": "execute_result"
    }
   ],
   "source": [
    "info[\"2014-06\"]"
   ]
  },
  {
   "cell_type": "markdown",
   "metadata": {},
   "source": [
    "Now on we'll be using the yahoo API for python, and explore a more practical example"
   ]
  },
  {
   "cell_type": "code",
   "execution_count": 1,
   "metadata": {
    "collapsed": true
   },
   "outputs": [],
   "source": [
    "from yahoo_finance import Share"
   ]
  },
  {
   "cell_type": "markdown",
   "metadata": {},
   "source": [
    "Stock prices (Apple) between '2014-04-27' and '2014-04-29'"
   ]
  },
  {
   "cell_type": "code",
   "execution_count": 3,
   "metadata": {
    "collapsed": false
   },
   "outputs": [
    {
     "data": {
      "text/plain": [
       "[{'Adj_Close': '82.6974',\n",
       "  'Close': '592.32996',\n",
       "  'Date': '2014-04-29',\n",
       "  'High': '595.97998',\n",
       "  'Low': '589.51001',\n",
       "  'Open': '593.73999',\n",
       "  'Symbol': 'AAPL',\n",
       "  'Volume': '84344400'},\n",
       " {'Adj_Close': '82.94313',\n",
       "  'Close': '594.09003',\n",
       "  'Date': '2014-04-28',\n",
       "  'High': '595.75',\n",
       "  'Low': '572.55005',\n",
       "  'Open': '572.79999',\n",
       "  'Symbol': 'AAPL',\n",
       "  'Volume': '167371400'}]"
      ]
     },
     "execution_count": 3,
     "metadata": {},
     "output_type": "execute_result"
    }
   ],
   "source": [
    "yahoo = Share(\"AAPL\")\n",
    "data = yahoo.get_historical('2014-04-27', '2014-04-29')\n",
    "data"
   ]
  },
  {
   "cell_type": "markdown",
   "metadata": {},
   "source": [
    "Plotting data for the time span between '2014-03-01' and '2014-04-29'"
   ]
  },
  {
   "cell_type": "code",
   "execution_count": 4,
   "metadata": {
    "collapsed": false
   },
   "outputs": [
    {
     "data": {
      "image/png": "[encoded data removed]",
      "text/plain": [
       "<matplotlib.figure.Figure at 0xaf3d6fec>"
      ]
     },
     "metadata": {},
     "output_type": "display_data"
    }
   ],
   "source": [
    "data = yahoo.get_historical('2014-03-01', '2014-04-29')\n",
    "Close_values = []\n",
    "for value in data:\n",
    "    Close_values.append(value[\"Adj_Close\"])\n",
    "plt.plot(Close_values)\n",
    "plt.title(\"Close\")\n",
    "plt.show()"
   ]
  },
  {
   "cell_type": "code",
   "execution_count": 23,
   "metadata": {
    "collapsed": false
   },
   "outputs": [
    {
     "data": {
      "image/png": "[encoded data removed]",
      "text/plain": [
       "<matplotlib.figure.Figure at 0xaf0a224c>"
      ]
     },
     "metadata": {},
     "output_type": "display_data"
    }
   ],
   "source": [
    "import datetime\n",
    "import matplotlib.dates as mdates\n",
    "\n",
    "def yahoo():\n",
    "    yahoo = Share(\"IBM\")\n",
    "    data = yahoo.get_historical('2014-04-05', '2014-04-29')\n",
    "    return data\n",
    "\n",
    "def DataFr():\n",
    "    yahoo_data = yahoo()\n",
    "    pandas_data = pd.DataFrame(columns = [\"Adj_Close\", \"Close\", \"Date\", \"High\", \"Low\", \"Open\", \"Symbol\", \"Volume\"])\n",
    "    for i in range(len(yahoo_data)):\n",
    "        pandas_data = pandas_data.append({\"Adj_Close\":yahoo_data[i][\"Adj_Close\"],\n",
    "                                \"Close\":yahoo_data[i][\"Close\"], \n",
    "                                \"Date\": yahoo_data[i][\"Date\"],\n",
    "                                \"High\": yahoo_data[i][\"High\"],\n",
    "                                \"Low\": yahoo_data[i][\"Low\"],\n",
    "                                \"Open\": yahoo_data[i][\"Open\"],\n",
    "                                \"Symbol\": yahoo_data[i][\"Symbol\"],\n",
    "                                \"Volume\": yahoo_data[i][\"Volume\"],\n",
    "                               }, ignore_index=True)\n",
    "        \n",
    "    return pandas_data\n",
    "\n",
    "def time_series():\n",
    "    \n",
    "    pandas_data = DataFr()\n",
    "    \n",
    "    Days = pandas_data[\"Date\"]\n",
    "    Dates = [datetime.datetime.strptime(day, '%Y-%m-%d') for day in Days]\n",
    "    Close_Values = pandas_data[\"Close\"]\n",
    "    \n",
    "    \n",
    "    fig = plt.figure()\n",
    "    ax = fig.add_subplot(111)\n",
    "\n",
    "    ax.set_xticks(Dates)\n",
    "    ax.xaxis.set_major_formatter(mdates.DateFormatter('%d/%m/%Y'))\n",
    "\n",
    "    ax.plot_date(Dates, Close_Values, ls='-', marker='o')\n",
    "    ax.set_title('Close Values')\n",
    "    ax.set_ylabel('Prices')\n",
    "    ax.grid(True)\n",
    "\n",
    "    fig.autofmt_xdate(rotation=45)\n",
    "    fig.tight_layout()\n",
    "\n",
    "    fig.show()\n",
    "    \n",
    "time_series()"
   ]
  },
  {
   "cell_type": "markdown",
   "metadata": {},
   "source": [
    "Prices variation on the same time span"
   ]
  },
  {
   "cell_type": "code",
   "execution_count": 26,
   "metadata": {
    "collapsed": false
   },
   "outputs": [
    {
     "data": {
      "image/png": "[encoded data removed]",
      "text/plain": [
       "<matplotlib.figure.Figure at 0xaf2a1acc>"
      ]
     },
     "metadata": {},
     "output_type": "display_data"
    }
   ],
   "source": [
    "def time_series_error():\n",
    "    \n",
    "    pandas_data = DataFr()\n",
    "        \n",
    "    Days = pandas_data[\"Date\"]\n",
    "    Dates = [datetime.datetime.strptime(day, '%Y-%m-%d') for day in Days]\n",
    "    Close_Values = pandas_data[\"Close\"].astype(float)\n",
    "    \n",
    "    error=np.zeros(len(Close_Values))\n",
    "\n",
    "    try:\n",
    "        for i in np.arange(1,len(Close_Values),1):\n",
    "            error[i] = Close_Values[i+1] - Close_Values[i]\n",
    "    except Exception as e:\n",
    "        pass\n",
    "\n",
    "    error\n",
    "    \n",
    "    fig = plt.figure()\n",
    "    ax = fig.add_subplot(111)\n",
    "\n",
    "    ax.set_xticks(Dates)\n",
    "    ax.xaxis.set_major_formatter(mdates.DateFormatter('%d/%m/%Y'))\n",
    "\n",
    "    ax.plot_date(Dates, error, ls='-', marker='o')\n",
    "    ax.set_title('Close Values')\n",
    "    ax.set_ylabel('Error')\n",
    "    ax.grid(True)\n",
    "\n",
    "    fig.autofmt_xdate(rotation=45)\n",
    "    fig.tight_layout()\n",
    "\n",
    "    fig.show()\n",
    "    \n",
    "time_series_error()"
   ]
  },
  {
   "cell_type": "code",
   "execution_count": null,
   "metadata": {
    "collapsed": true
   },
   "outputs": [],
   "source": []
  }
 ],
 "metadata": {
  "kernelspec": {
   "display_name": "Python 2",
   "language": "python",
   "name": "python2"
  },
  "language_info": {
   "codemirror_mode": {
    "name": "ipython",
    "version": 2
   },
   "file_extension": ".py",
   "mimetype": "text/x-python",
   "name": "python",
   "nbconvert_exporter": "python",
   "pygments_lexer": "ipython2",
   "version": "2.7.9"
  }
 },
 "nbformat": 4,
 "nbformat_minor": 0
}
